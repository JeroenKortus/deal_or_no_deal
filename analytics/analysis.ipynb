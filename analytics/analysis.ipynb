{
 "cells": [
  {
   "cell_type": "code",
   "execution_count": 1,
   "metadata": {},
   "outputs": [
    {
     "name": "stdout",
     "output_type": "stream",
     "text": [
      "At the start of the game, the player has an expected result of $131477.54\n"
     ]
    }
   ],
   "source": [
    "case_values = [0.01, 1, 5, 10, 25, 50, 75, 100, 200, 300, \n",
    "               400, 500, 750, 1000, 5000, 10000, 25000, 50000, 75000, \n",
    "               100000, 200000, 300000, 400000, 500000, 750000, 1000000]\n",
    "\n",
    "EV = sum(case_values) / len(case_values)\n",
    "print(\"At the start of the game, the player has an expected result of ${:.2f}\".format(EV))"
   ]
  },
  {
   "cell_type": "code",
   "execution_count": 10,
   "metadata": {},
   "outputs": [
    {
     "data": {
      "text/plain": [
       "(array([ 0,  1,  2,  3,  4,  5,  6,  7,  8,  9, 10, 11, 12, 13, 14, 15, 16,\n",
       "        17, 18, 19, 20, 21, 22, 23, 24, 25]),\n",
       " [Text(0, 0, '0.01'),\n",
       "  Text(1, 0, '1.0'),\n",
       "  Text(2, 0, '5.0'),\n",
       "  Text(3, 0, '10.0'),\n",
       "  Text(4, 0, '25.0'),\n",
       "  Text(5, 0, '50.0'),\n",
       "  Text(6, 0, '75.0'),\n",
       "  Text(7, 0, '100.0'),\n",
       "  Text(8, 0, '200.0'),\n",
       "  Text(9, 0, '300.0'),\n",
       "  Text(10, 0, '400.0'),\n",
       "  Text(11, 0, '500.0'),\n",
       "  Text(12, 0, '750.0'),\n",
       "  Text(13, 0, '1000.0'),\n",
       "  Text(14, 0, '5000.0'),\n",
       "  Text(15, 0, '10000.0'),\n",
       "  Text(16, 0, '25000.0'),\n",
       "  Text(17, 0, '50000.0'),\n",
       "  Text(18, 0, '75000.0'),\n",
       "  Text(19, 0, '100000.0'),\n",
       "  Text(20, 0, '200000.0'),\n",
       "  Text(21, 0, '300000.0'),\n",
       "  Text(22, 0, '400000.0'),\n",
       "  Text(23, 0, '500000.0'),\n",
       "  Text(24, 0, '750000.0'),\n",
       "  Text(25, 0, '1000000.0')])"
      ]
     },
     "execution_count": 10,
     "metadata": {},
     "output_type": "execute_result"
    },
    {
     "data": {
      "image/png": "[encoded data removed]",
      "text/plain": [
       "<Figure size 432x288 with 1 Axes>"
      ]
     },
     "metadata": {
      "needs_background": "light"
     },
     "output_type": "display_data"
    }
   ],
   "source": [
    "%matplotlib inline\n",
    "import matplotlib.pyplot as plt\n",
    "\n",
    "plt.bar(range(len(case_values)), case_values, tick_label=case_values)\n",
    "plt.xticks(rotation=90)"
   ]
  }
 ],
 "metadata": {
  "interpreter": {
   "hash": "aee8b7b246df8f9039afb4144a1f6fd8d2ca17a180786b69acc140d282b71a49"
  },
  "kernelspec": {
   "display_name": "Python 3.9.10 64-bit",
   "language": "python",
   "name": "python3"
  },
  "language_info": {
   "codemirror_mode": {
    "name": "ipython",
    "version": 3
   },
   "file_extension": ".py",
   "mimetype": "text/x-python",
   "name": "python",
   "nbconvert_exporter": "python",
   "pygments_lexer": "ipython3",
   "version": "3.9.10"
  },
  "orig_nbformat": 4
 },
 "nbformat": 4,
 "nbformat_minor": 2
}
