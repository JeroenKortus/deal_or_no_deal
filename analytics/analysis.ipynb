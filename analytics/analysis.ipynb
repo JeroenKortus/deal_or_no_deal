{
 "cells": [
  {
   "cell_type": "code",
   "execution_count": 1,
   "metadata": {},
   "outputs": [
    {
     "name": "stdout",
     "output_type": "stream",
     "text": [
      "At the start of the game, the player has an expected result of $131477.54\n"
     ]
    }
   ],
   "source": [
    "case_values = [0.01, 1, 5, 10, 25, 50, 75, 100, 200, 300, \n",
    "               400, 500, 750, 1000, 5000, 10000, 25000, 50000, 75000, \n",
    "               100000, 200000, 300000, 400000, 500000, 750000, 1000000]\n",
    "\n",
    "EV = sum(case_values) / len(case_values)\n",
    "print(\"At the start of the game, the player has an expected result of ${:.2f}\".format(EV))"
   ]
  },
  {
   "cell_type": "code",
   "execution_count": 2,
   "metadata": {},
   "outputs": [],
   "source": [
    "import matplotlib.pyplot as plt\n",
    "%matplotlib inline\n",
    "plt.hist(case_values)"
   ]
  }
 ],
 "metadata": {
  "interpreter": {
   "hash": "aee8b7b246df8f9039afb4144a1f6fd8d2ca17a180786b69acc140d282b71a49"
  },
  "kernelspec": {
   "display_name": "Python 3.9.10 64-bit",
   "language": "python",
   "name": "python3"
  },
  "language_info": {
   "codemirror_mode": {
    "name": "ipython",
    "version": 3
   },
   "file_extension": ".py",
   "mimetype": "text/x-python",
   "name": "python",
   "nbconvert_exporter": "python",
   "pygments_lexer": "ipython3",
   "version": "3.9.10"
  },
  "orig_nbformat": 4
 },
 "nbformat": 4,
 "nbformat_minor": 2
}
